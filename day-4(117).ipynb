{
 "cells": [
  {
   "cell_type": "code",
   "execution_count": 5,
   "id": "7ac8f455-6485-468e-a58c-a6db4cb05b37",
   "metadata": {},
   "outputs": [
    {
     "name": "stdin",
     "output_type": "stream",
     "text": [
      "Enter a positive integer:  10\n"
     ]
    },
    {
     "name": "stdout",
     "output_type": "stream",
     "text": [
      "The sum of all even numbers between 1 and 10 is: 30\n"
     ]
    }
   ],
   "source": [
    "##Day-4\n",
    "# Take input for the positive integer n\n",
    "n = int(input(\"Enter a positive integer: \"))\n",
    "\n",
    "# Initialize a variable to store the sum of even numbers\n",
    "even_sum = 0\n",
    "\n",
    "# Loop through all numbers from 1 to n\n",
    "for num in range(1, n + 1):\n",
    "    if num % 2 == 0:  # Check if the number is even\n",
    "        even_sum += num\n",
    "\n",
    "# Print the result\n",
    "print(f\"The sum of all even numbers between 1 and {n} is: {even_sum}\")"
   ]
  }
 ],
 "metadata": {
  "kernelspec": {
   "display_name": "Python [conda env:base] *",
   "language": "python",
   "name": "conda-base-py"
  },
  "language_info": {
   "codemirror_mode": {
    "name": "ipython",
    "version": 3
   },
   "file_extension": ".py",
   "mimetype": "text/x-python",
   "name": "python",
   "nbconvert_exporter": "python",
   "pygments_lexer": "ipython3",
   "version": "3.12.7"
  }
 },
 "nbformat": 4,
 "nbformat_minor": 5
}
