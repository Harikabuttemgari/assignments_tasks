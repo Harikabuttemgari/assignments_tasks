{
 "cells": [
  {
   "cell_type": "code",
   "execution_count": 1,
   "id": "ad6b5e4e-0408-4711-aa9e-f40917d672cf",
   "metadata": {},
   "outputs": [
    {
     "name": "stdin",
     "output_type": "stream",
     "text": [
      "Enter a positive integer:  5\n"
     ]
    },
    {
     "name": "stdout",
     "output_type": "stream",
     "text": [
      "Numbers from 1 to 5\n",
      "1\n",
      "2\n",
      "3\n",
      "4\n",
      "5\n",
      "Sum of all numbers from 1 to 5 is: 15\n"
     ]
    },
    {
     "name": "stdin",
     "output_type": "stream",
     "text": [
      "Enter a positive integer:  6\n"
     ]
    },
    {
     "name": "stdout",
     "output_type": "stream",
     "text": [
      "The square of 6 is: 36\n"
     ]
    }
   ],
   "source": [
    "##Day-5\n",
    "# Ask the user to enter a positive integer\n",
    "n = int(input(\"Enter a positive integer: \"))\n",
    "\n",
    "# Print all numbers from 1 to n using a for loop\n",
    "print(\"Numbers from 1 to\", n)\n",
    "for i in range(1, n + 1):\n",
    "    print(i)\n",
    "\n",
    "# Calculate the sum of all numbers from 1 to n using a while loop\n",
    "sum_numbers = 0\n",
    "i = 1\n",
    "while i <= n:\n",
    "    sum_numbers += i\n",
    "    i += 1\n",
    "print(\"Sum of all numbers from 1 to\", n, \"is:\", sum_numbers)\n",
    "# Define a function to calculate the square of a number\n",
    "def calculate_square(n):\n",
    "    return n * n\n",
    "\n",
    "# Ask the user to input a positive integer\n",
    "num = int(input(\"Enter a positive integer: \"))\n",
    "\n",
    "# Call the function and display the result\n",
    "square = calculate_square(num)\n",
    "print(f\"The square of {num} is: {square}\")"
   ]
  }
 ],
 "metadata": {
  "kernelspec": {
   "display_name": "Python [conda env:base] *",
   "language": "python",
   "name": "conda-base-py"
  },
  "language_info": {
   "codemirror_mode": {
    "name": "ipython",
    "version": 3
   },
   "file_extension": ".py",
   "mimetype": "text/x-python",
   "name": "python",
   "nbconvert_exporter": "python",
   "pygments_lexer": "ipython3",
   "version": "3.12.7"
  }
 },
 "nbformat": 4,
 "nbformat_minor": 5
}
