{
 "cells": [
  {
   "cell_type": "code",
   "execution_count": 3,
   "id": "4d861f84-2f9a-4ab1-8711-d6975338283a",
   "metadata": {},
   "outputs": [
    {
     "name": "stdout",
     "output_type": "stream",
     "text": [
      "First 2 rows of the DataFrame:\n",
      "    Name  Age Department  Salary\n",
      "0   John   28         HR   45000\n",
      "1  Alice   34         IT   60000\n",
      "\n",
      "DataFrame with Bonus column:\n",
      "    Name  Age Department  Salary   Bonus\n",
      "0   John   28         HR   45000  4500.0\n",
      "1  Alice   34         IT   60000  6000.0\n",
      "2    Bob   23  Marketing   35000  3500.0\n",
      "3  Diana   29    Finance   50000  5000.0\n",
      "\n",
      "Average Salary: 47500.0\n",
      "\n",
      "Employees older than 25:\n",
      "    Name  Age Department  Salary   Bonus\n",
      "0   John   28         HR   45000  4500.0\n",
      "1  Alice   34         IT   60000  6000.0\n",
      "3  Diana   29    Finance   50000  5000.0\n"
     ]
    }
   ],
   "source": [
    "##Day-6\n",
    "import pandas as pd\n",
    "\n",
    "# 1. Create a DataFrame\n",
    "data = {\n",
    "    \"Name\": [\"John\", \"Alice\", \"Bob\", \"Diana\"],\n",
    "    \"Age\": [28, 34, 23, 29],\n",
    "    \"Department\": [\"HR\", \"IT\", \"Marketing\", \"Finance\"],\n",
    "    \"Salary\": [45000, 60000, 35000, 50000]\n",
    "}\n",
    "df = pd.DataFrame(data)\n",
    "\n",
    "# 2a. Display the first 2 rows of the DataFrame\n",
    "print(\"First 2 rows of the DataFrame:\")\n",
    "print(df.head(2))\n",
    "\n",
    "# 2b. Add a new column named 'Bonus' (10% of the salary)\n",
    "df[\"Bonus\"] = df[\"Salary\"] * 0.1\n",
    "print(\"\\nDataFrame with Bonus column:\")\n",
    "print(df)\n",
    "\n",
    "# 2c. Calculate the average salary\n",
    "average_salary = df[\"Salary\"].mean()\n",
    "print(\"\\nAverage Salary:\", average_salary)\n",
    "\n",
    "# 2d. Filter and display employees older than 25\n",
    "filtered_employees = df[df[\"Age\"] > 25]\n",
    "print(\"\\nEmployees older than 25:\")\n",
    "print(filtered_employees)"
   ]
  }
 ],
 "metadata": {
  "kernelspec": {
   "display_name": "Python [conda env:base] *",
   "language": "python",
   "name": "conda-base-py"
  },
  "language_info": {
   "codemirror_mode": {
    "name": "ipython",
    "version": 3
   },
   "file_extension": ".py",
   "mimetype": "text/x-python",
   "name": "python",
   "nbconvert_exporter": "python",
   "pygments_lexer": "ipython3",
   "version": "3.12.7"
  }
 },
 "nbformat": 4,
 "nbformat_minor": 5
}
