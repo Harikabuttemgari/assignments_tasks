{
 "cells": [
  {
   "cell_type": "markdown",
   "id": "1a647eb5-1595-473a-b740-cb3f877bee2d",
   "metadata": {},
   "source": [
    "Create a List, tuple and Dictionary with 5 elements in it and how to access few elements based on the index. Try  with different examples \n"
   ]
  },
  {
   "cell_type": "code",
   "execution_count": 5,
   "id": "9d92028d-564c-43bf-a875-c25a09e1ae58",
   "metadata": {},
   "outputs": [
    {
     "name": "stdout",
     "output_type": "stream",
     "text": [
      "List Elements:\n",
      "Element at index 1: 20\n",
      "Element at index 3: 40\n",
      "\n",
      "Tuple Elements:\n",
      "Element at index 0: apple\n",
      "Element at index 4: elderberry\n",
      "\n",
      "Dictionary Elements:\n",
      "Value for key 'a': 1\n",
      "Value for key 'd': 4\n",
      "\n",
      "Slicing the List and Tuple:\n",
      "List slice [1:4]: [20, 30, 40]\n",
      "Tuple slice [0:3]: ('apple', 'banana', 'cherry')\n"
     ]
    }
   ],
   "source": [
    "# Creating a List, Tuple, and Dictionary\n",
    "my_list = [10, 20, 30, 40, 50]  \n",
    "my_tuple = (\"apple\", \"banana\", \"cherry\", \"date\", \"elderberry\")  \n",
    "my_dict = {\"a\": 1, \"b\": 2, \"c\": 3, \"d\": 4, \"e\": 5}  \n",
    "\n",
    "# Accessing elements in the List\n",
    "print(\"List Elements:\")\n",
    "print(\"Element at index 1:\", my_list[1])  \n",
    "print(\"Element at index 3:\", my_list[3])  \n",
    "\n",
    "# Accessing elements in the Tuple\n",
    "print(\"\\nTuple Elements:\")\n",
    "print(\"Element at index 0:\", my_tuple[0])  \n",
    "print(\"Element at index 4:\", my_tuple[4])  \n",
    "# Accessing elements in the Dictionary\n",
    "print(\"\\nDictionary Elements:\")\n",
    "print(\"Value for key 'a':\", my_dict[\"a\"])  \n",
    "print(\"Value for key 'd':\", my_dict[\"d\"]) \n",
    "\n",
    "# Experiment with accessing multiple elements (List and Tuple)\n",
    "print(\"\\nSlicing the List and Tuple:\")\n",
    "print(\"List slice [1:4]:\", my_list[1:4])  \n",
    "print(\"Tuple slice [0:3]:\", my_tuple[0:3])"
   ]
  },
  {
   "cell_type": "code",
   "execution_count": null,
   "id": "7a59735c-df75-40e7-9445-807e6b35a5cf",
   "metadata": {},
   "outputs": [],
   "source": []
  }
 ],
 "metadata": {
  "kernelspec": {
   "display_name": "Python [conda env:base] *",
   "language": "python",
   "name": "conda-base-py"
  },
  "language_info": {
   "codemirror_mode": {
    "name": "ipython",
    "version": 3
   },
   "file_extension": ".py",
   "mimetype": "text/x-python",
   "name": "python",
   "nbconvert_exporter": "python",
   "pygments_lexer": "ipython3",
   "version": "3.12.7"
  }
 },
 "nbformat": 4,
 "nbformat_minor": 5
}
